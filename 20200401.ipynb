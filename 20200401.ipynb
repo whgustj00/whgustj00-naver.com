{
  "nbformat": 4,
  "nbformat_minor": 0,
  "metadata": {
    "colab": {
      "name": "20200401",
      "provenance": [],
      "authorship_tag": "ABX9TyNiWh9by5Fw7JhLvbGLQ04S",
      "include_colab_link": true
    },
    "kernelspec": {
      "name": "python3",
      "display_name": "Python 3"
    }
  },
  "cells": [
    {
      "cell_type": "markdown",
      "metadata": {
        "id": "view-in-github",
        "colab_type": "text"
      },
      "source": [
        "<a href=\"https://colab.research.google.com/github/whgustj00/whgustj00-naver.com/blob/master/20200401.ipynb\" target=\"_parent\"><img src=\"https://colab.research.google.com/assets/colab-badge.svg\" alt=\"Open In Colab\"/></a>"
      ]
    },
    {
      "cell_type": "code",
      "metadata": {
        "id": "xhh44bRflDCD",
        "colab_type": "code",
        "outputId": "8fcc1d4f-6753-4809-9395-fe301f1e5677",
        "colab": {
          "base_uri": "https://localhost:8080/",
          "height": 301
        }
      },
      "source": [
        "class Node:\n",
        "\n",
        "    def __init__(self, data):\n",
        "        self.data = data\n",
        "        self.prev = None\n",
        "        self.next = None\n",
        "\n",
        "    def set_prev(self, prev):\n",
        "        self.prev = prev\n",
        "    \n",
        "    def set_next(self, next):\n",
        "        self.next = next\n",
        "\n",
        "    def get_data(self):\n",
        "        return self.data\n",
        "\n",
        "    def get_prev(self):\n",
        "        return self.prev\n",
        "    \n",
        "    def get_next(self):\n",
        "        return self.next\n",
        "\n",
        "class Doubly_linked_list:\n",
        "\n",
        "    def __init__(self):\n",
        "        self.header = None\n",
        "        self.tail = None\n",
        "        self.size = 0\n",
        "    \n",
        "    def print_list(self):\n",
        "        print(\">> current list\")\n",
        "        node = self.header\n",
        "        while node is not None:\n",
        "            print(node.get_data())\n",
        "            node = node.get_next()\n",
        "        print(\">>>>>>>>>>>>>>\")\n",
        "\n",
        "    def append(self, data):\n",
        "        new_node = Node(data)\n",
        "        self.size += 1\n",
        "        if self.header is None:\n",
        "            self.header = new_node\n",
        "        else:\n",
        "            self.tail.set_next(new_node)\n",
        "            new_node.set_prev(self.tail)\n",
        "        self.tail = new_node\n",
        "\n",
        "    def get_at(self, index):\n",
        "        if index >= self.size:\n",
        "            return None\n",
        "        else:\n",
        "            node = self.header\n",
        "            for i in range (0, index):\n",
        "                node = node.get_next()\n",
        "            return node\n",
        "\n",
        "    def search(self, data):\n",
        "        node = self.header\n",
        "        while node is not None:\n",
        "            if node.get_data() == data:\n",
        "                return node\n",
        "            node = node.get_next()\n",
        "        return None\n",
        "\n",
        "    def get_near_by(self, data, scope):\n",
        "        list = []\n",
        "\n",
        "        center = self.search(data)\n",
        "\n",
        "        if center is not None:\n",
        "            count = 0\n",
        "            node = center.get_prev()\n",
        "            while(node is not None and count < scope):\n",
        "                list.append(node)\n",
        "                node = node.get_prev()\n",
        "                count += 1\n",
        "\n",
        "            count = 0\n",
        "            node = center.get_next()\n",
        "            while(node is not None and count < scope):\n",
        "                list.append(node)\n",
        "                node = node.get_next()\n",
        "                count += 1\n",
        "\n",
        "        return list\n",
        "\n",
        "dll = Doubly_linked_list()\n",
        "dll.append(\"Apple\")\n",
        "dll.append(\"Kiwi\")\n",
        "dll.append(\"Banana\")\n",
        "dll.append(\"Melon\")\n",
        "dll.append(\"Orange\")\n",
        "dll.append(\"Blackberry\")\n",
        "dll.print_list()\n",
        "\n",
        "list = dll.get_near_by(\"Banana\", 2)\n",
        "for node in list:\n",
        "    print(node.get_data())\n",
        "print(\"==================\")\n",
        "list = dll.get_near_by(\"Apple\", 3)\n",
        "for node in list:\n",
        "    print(node.get_data())"
      ],
      "execution_count": 0,
      "outputs": [
        {
          "output_type": "stream",
          "text": [
            ">> current list\n",
            "Apple\n",
            "Kiwi\n",
            "Banana\n",
            "Melon\n",
            "Orange\n",
            "Blackberry\n",
            ">>>>>>>>>>>>>>\n",
            "Kiwi\n",
            "Apple\n",
            "Melon\n",
            "Orange\n",
            "==================\n",
            "Kiwi\n",
            "Banana\n",
            "Melon\n"
          ],
          "name": "stdout"
        }
      ]
    },
    {
      "cell_type": "code",
      "metadata": {
        "id": "gF0rT5RWsDub",
        "colab_type": "code",
        "colab": {}
      },
      "source": [
        ""
      ],
      "execution_count": 0,
      "outputs": []
    }
  ]
}