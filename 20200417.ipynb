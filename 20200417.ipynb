{
  "nbformat": 4,
  "nbformat_minor": 0,
  "metadata": {
    "colab": {
      "name": "20200417.ipynb",
      "provenance": [],
      "authorship_tag": "ABX9TyMwh1jy03ghY9Yxeqsr6DSE",
      "include_colab_link": true
    },
    "kernelspec": {
      "name": "python3",
      "display_name": "Python 3"
    }
  },
  "cells": [
    {
      "cell_type": "markdown",
      "metadata": {
        "id": "view-in-github",
        "colab_type": "text"
      },
      "source": [
        "<a href=\"https://colab.research.google.com/github/whgustj00/whgustj00-naver.com/blob/master/20200417.ipynb\" target=\"_parent\"><img src=\"https://colab.research.google.com/assets/colab-badge.svg\" alt=\"Open In Colab\"/></a>"
      ]
    },
    {
      "cell_type": "code",
      "metadata": {
        "id": "I8ZJLph2zoZd",
        "colab_type": "code",
        "outputId": "af0102f7-0216-4c23-aff1-f2cb1ab5f6dc",
        "colab": {
          "base_uri": "https://localhost:8080/",
          "height": 1000
        }
      },
      "source": [
        "list = [ ]\n",
        "\n",
        "for i in range(0, 20):\n",
        "    list.append(i)\n",
        "    print(\"List : \", list)\n",
        "    print(\"Length : \", len(list))\n",
        "    print(\"Size : \",list.__sizeof__())\n",
        "    print(\"ㅡㅡㅡㅡㅡㅡㅡㅡㅡㅡㅡㅡㅡㅡ\")"
      ],
      "execution_count": 0,
      "outputs": [
        {
          "output_type": "stream",
          "text": [
            "List :  [0]\n",
            "Length :  1\n",
            "Size :  72\n",
            "ㅡㅡㅡㅡㅡㅡㅡㅡㅡㅡㅡㅡㅡㅡ\n",
            "List :  [0, 1]\n",
            "Length :  2\n",
            "Size :  72\n",
            "ㅡㅡㅡㅡㅡㅡㅡㅡㅡㅡㅡㅡㅡㅡ\n",
            "List :  [0, 1, 2]\n",
            "Length :  3\n",
            "Size :  72\n",
            "ㅡㅡㅡㅡㅡㅡㅡㅡㅡㅡㅡㅡㅡㅡ\n",
            "List :  [0, 1, 2, 3]\n",
            "Length :  4\n",
            "Size :  72\n",
            "ㅡㅡㅡㅡㅡㅡㅡㅡㅡㅡㅡㅡㅡㅡ\n",
            "List :  [0, 1, 2, 3, 4]\n",
            "Length :  5\n",
            "Size :  104\n",
            "ㅡㅡㅡㅡㅡㅡㅡㅡㅡㅡㅡㅡㅡㅡ\n",
            "List :  [0, 1, 2, 3, 4, 5]\n",
            "Length :  6\n",
            "Size :  104\n",
            "ㅡㅡㅡㅡㅡㅡㅡㅡㅡㅡㅡㅡㅡㅡ\n",
            "List :  [0, 1, 2, 3, 4, 5, 6]\n",
            "Length :  7\n",
            "Size :  104\n",
            "ㅡㅡㅡㅡㅡㅡㅡㅡㅡㅡㅡㅡㅡㅡ\n",
            "List :  [0, 1, 2, 3, 4, 5, 6, 7]\n",
            "Length :  8\n",
            "Size :  104\n",
            "ㅡㅡㅡㅡㅡㅡㅡㅡㅡㅡㅡㅡㅡㅡ\n",
            "List :  [0, 1, 2, 3, 4, 5, 6, 7, 8]\n",
            "Length :  9\n",
            "Size :  168\n",
            "ㅡㅡㅡㅡㅡㅡㅡㅡㅡㅡㅡㅡㅡㅡ\n",
            "List :  [0, 1, 2, 3, 4, 5, 6, 7, 8, 9]\n",
            "Length :  10\n",
            "Size :  168\n",
            "ㅡㅡㅡㅡㅡㅡㅡㅡㅡㅡㅡㅡㅡㅡ\n",
            "List :  [0, 1, 2, 3, 4, 5, 6, 7, 8, 9, 10]\n",
            "Length :  11\n",
            "Size :  168\n",
            "ㅡㅡㅡㅡㅡㅡㅡㅡㅡㅡㅡㅡㅡㅡ\n",
            "List :  [0, 1, 2, 3, 4, 5, 6, 7, 8, 9, 10, 11]\n",
            "Length :  12\n",
            "Size :  168\n",
            "ㅡㅡㅡㅡㅡㅡㅡㅡㅡㅡㅡㅡㅡㅡ\n",
            "List :  [0, 1, 2, 3, 4, 5, 6, 7, 8, 9, 10, 11, 12]\n",
            "Length :  13\n",
            "Size :  168\n",
            "ㅡㅡㅡㅡㅡㅡㅡㅡㅡㅡㅡㅡㅡㅡ\n",
            "List :  [0, 1, 2, 3, 4, 5, 6, 7, 8, 9, 10, 11, 12, 13]\n",
            "Length :  14\n",
            "Size :  168\n",
            "ㅡㅡㅡㅡㅡㅡㅡㅡㅡㅡㅡㅡㅡㅡ\n",
            "List :  [0, 1, 2, 3, 4, 5, 6, 7, 8, 9, 10, 11, 12, 13, 14]\n",
            "Length :  15\n",
            "Size :  168\n",
            "ㅡㅡㅡㅡㅡㅡㅡㅡㅡㅡㅡㅡㅡㅡ\n",
            "List :  [0, 1, 2, 3, 4, 5, 6, 7, 8, 9, 10, 11, 12, 13, 14, 15]\n",
            "Length :  16\n",
            "Size :  168\n",
            "ㅡㅡㅡㅡㅡㅡㅡㅡㅡㅡㅡㅡㅡㅡ\n",
            "List :  [0, 1, 2, 3, 4, 5, 6, 7, 8, 9, 10, 11, 12, 13, 14, 15, 16]\n",
            "Length :  17\n",
            "Size :  240\n",
            "ㅡㅡㅡㅡㅡㅡㅡㅡㅡㅡㅡㅡㅡㅡ\n",
            "List :  [0, 1, 2, 3, 4, 5, 6, 7, 8, 9, 10, 11, 12, 13, 14, 15, 16, 17]\n",
            "Length :  18\n",
            "Size :  240\n",
            "ㅡㅡㅡㅡㅡㅡㅡㅡㅡㅡㅡㅡㅡㅡ\n",
            "List :  [0, 1, 2, 3, 4, 5, 6, 7, 8, 9, 10, 11, 12, 13, 14, 15, 16, 17, 18]\n",
            "Length :  19\n",
            "Size :  240\n",
            "ㅡㅡㅡㅡㅡㅡㅡㅡㅡㅡㅡㅡㅡㅡ\n",
            "List :  [0, 1, 2, 3, 4, 5, 6, 7, 8, 9, 10, 11, 12, 13, 14, 15, 16, 17, 18, 19]\n",
            "Length :  20\n",
            "Size :  240\n",
            "ㅡㅡㅡㅡㅡㅡㅡㅡㅡㅡㅡㅡㅡㅡ\n"
          ],
          "name": "stdout"
        }
      ]
    },
    {
      "cell_type": "code",
      "metadata": {
        "id": "1L1phKmoz78B",
        "colab_type": "code",
        "colab": {}
      },
      "source": [
        ""
      ],
      "execution_count": 0,
      "outputs": []
    }
  ]
}