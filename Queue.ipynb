{
  "nbformat": 4,
  "nbformat_minor": 0,
  "metadata": {
    "colab": {
      "name": "Queue.ipynb",
      "provenance": [],
      "collapsed_sections": [],
      "include_colab_link": true
    },
    "kernelspec": {
      "name": "python3",
      "display_name": "Python 3"
    }
  },
  "cells": [
    {
      "cell_type": "markdown",
      "metadata": {
        "id": "view-in-github",
        "colab_type": "text"
      },
      "source": [
        "<a href=\"https://colab.research.google.com/github/whgustj00/whgustj00-naver.com/blob/master/Queue.ipynb\" target=\"_parent\"><img src=\"https://colab.research.google.com/assets/colab-badge.svg\" alt=\"Open In Colab\"/></a>"
      ]
    },
    {
      "cell_type": "code",
      "metadata": {
        "id": "heHxftgm0C_D",
        "colab_type": "code",
        "outputId": "e099ef49-290f-465b-c662-3ef11658e54d",
        "colab": {
          "base_uri": "https://localhost:8080/",
          "height": 212
        }
      },
      "source": [
        "class Node:\n",
        "  \n",
        "    def __init__(self, data):\n",
        "        self.data = data\n",
        "        self.prev = None\n",
        "        \n",
        "    def get_data(self):\n",
        "        return self.data\n",
        "    \n",
        "    def get_prev(self):\n",
        "        return self.prev\n",
        "  \n",
        "    def set_prev(self, prev):\n",
        "        self.prev = prev\n",
        "\n",
        "    def set_next(self, next):\n",
        "        self.next = next\n",
        "\n",
        "class Queue:\n",
        "\n",
        "    def __init__(self):\n",
        "        self.front = None\n",
        "        self.rear = None\n",
        "        self.size = 0\n",
        "\n",
        "    def print_queue(self):\n",
        "        print(\">> current queue\")\n",
        "        node = self.front\n",
        "        while node is not None:\n",
        "            print(node.get_data())\n",
        "            node = node.get_prev()\n",
        "        print(\">>>>>>>>>>>>>>\")\n",
        "\n",
        "    def enqueue(self, data):\n",
        "        new_node = Node(data)\n",
        "        self.size += 1\n",
        "        if self.front is None:\n",
        "            self.front = new_node\n",
        "        else:\n",
        "            self.rear.set_prev(new_node)\n",
        "            new_node.set_next(self.front)\n",
        "        self.rear = new_node\n",
        "\n",
        "    def dequeue(self):\n",
        "        node = self.front\n",
        "        if node is not None:\n",
        "            self.front = node.get_prev()\n",
        "            self.size -= 1\n",
        "        return node\n",
        "  \n",
        "queue = Queue()\n",
        "queue.enqueue(\"Apple\")\n",
        "queue.enqueue(\"Kiwi\")\n",
        "queue.enqueue(\"Banana\")\n",
        "queue.print_queue()\n",
        "\n",
        "node = queue.dequeue()\n",
        "print(\"Dequeue: \" + node.get_data())\n",
        "node = queue.dequeue()\n",
        "print(\"Dequeue: \" + node.get_data())\n",
        "\n",
        "queue.enqueue(\"Melon\")\n",
        "queue.print_queue()"
      ],
      "execution_count": 166,
      "outputs": [
        {
          "output_type": "stream",
          "text": [
            ">> current queue\n",
            "Apple\n",
            "Kiwi\n",
            "Banana\n",
            ">>>>>>>>>>>>>>\n",
            "Dequeue: Apple\n",
            "Dequeue: Kiwi\n",
            ">> current queue\n",
            "Banana\n",
            "Melon\n",
            ">>>>>>>>>>>>>>\n"
          ],
          "name": "stdout"
        }
      ]
    },
    {
      "cell_type": "code",
      "metadata": {
        "id": "2D7b3kw7KbSX",
        "colab_type": "code",
        "colab": {}
      },
      "source": [
        ""
      ],
      "execution_count": 0,
      "outputs": []
    }
  ]
}