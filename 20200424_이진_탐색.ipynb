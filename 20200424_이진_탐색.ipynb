{
  "nbformat": 4,
  "nbformat_minor": 0,
  "metadata": {
    "colab": {
      "name": "20200424 이진 탐색.ipynb",
      "provenance": [],
      "authorship_tag": "ABX9TyNstOn4SEEmzhKdSrX+kwB6",
      "include_colab_link": true
    },
    "kernelspec": {
      "name": "python3",
      "display_name": "Python 3"
    }
  },
  "cells": [
    {
      "cell_type": "markdown",
      "metadata": {
        "id": "view-in-github",
        "colab_type": "text"
      },
      "source": [
        "<a href=\"https://colab.research.google.com/github/whgustj00/whgustj00-naver.com/blob/master/20200424_%EC%9D%B4%EC%A7%84_%ED%83%90%EC%83%89.ipynb\" target=\"_parent\"><img src=\"https://colab.research.google.com/assets/colab-badge.svg\" alt=\"Open In Colab\"/></a>"
      ]
    },
    {
      "cell_type": "code",
      "metadata": {
        "id": "rnyOFkpL5uF8",
        "colab_type": "code",
        "outputId": "c6567da5-63e5-43eb-bcf9-9bc0260bbd56",
        "colab": {
          "base_uri": "https://localhost:8080/",
          "height": 34
        }
      },
      "source": [
        "def find(L, target, start, end):\n",
        "    if start> end:\n",
        "        return -1\n",
        "\n",
        "    mid = (start + end)//2\n",
        "    if L[mid] == target:\n",
        "        return mid\n",
        "\n",
        "    if L[mid] > target:\n",
        "        return find(L, target, start, mid-1)\n",
        "    else:\n",
        "        return find(L, target, mid+1, end)\n",
        "\n",
        "L = [ ]\n",
        "L.append(5)\n",
        "L.append(8)\n",
        "L.append(10)\n",
        "L.append(15)\n",
        "L.append(20)\n",
        "L.append(25)\n",
        "L.append(30)\n",
        "L.append(40)\n",
        "L.append(50)\n",
        "L.append(54)\n",
        "L.append(66)\n",
        "L.append(69)\n",
        "L.append(83)\n",
        "L.append(86)\n",
        "L.append(90)\n",
        "\n",
        "index = find(L, 67, 0, len(L)-1)\n",
        "print(index)"
      ],
      "execution_count": 0,
      "outputs": [
        {
          "output_type": "stream",
          "text": [
            "-1\n"
          ],
          "name": "stdout"
        }
      ]
    },
    {
      "cell_type": "code",
      "metadata": {
        "id": "4CXa_cCT6RFp",
        "colab_type": "code",
        "colab": {}
      },
      "source": [
        ""
      ],
      "execution_count": 0,
      "outputs": []
    }
  ]
}