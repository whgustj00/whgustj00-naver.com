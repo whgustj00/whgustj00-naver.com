{
  "nbformat": 4,
  "nbformat_minor": 0,
  "metadata": {
    "colab": {
      "name": "20200410",
      "provenance": [],
      "authorship_tag": "ABX9TyMf7vIVAdWIshh9OIPuRTm2",
      "include_colab_link": true
    },
    "kernelspec": {
      "name": "python3",
      "display_name": "Python 3"
    }
  },
  "cells": [
    {
      "cell_type": "markdown",
      "metadata": {
        "id": "view-in-github",
        "colab_type": "text"
      },
      "source": [
        "<a href=\"https://colab.research.google.com/github/whgustj00/whgustj00-naver.com/blob/master/20200410.ipynb\" target=\"_parent\"><img src=\"https://colab.research.google.com/assets/colab-badge.svg\" alt=\"Open In Colab\"/></a>"
      ]
    },
    {
      "cell_type": "code",
      "metadata": {
        "id": "FxzRAtd_nvPR",
        "colab_type": "code",
        "outputId": "bdeb6692-716f-4779-ed5f-3ad89e01c840",
        "colab": {
          "base_uri": "https://localhost:8080/",
          "height": 301
        }
      },
      "source": [
        "class Node:\n",
        "\n",
        "    def __init__(self, data):\n",
        "        self.data = data\n",
        "        self.left = None\n",
        "        self.right = None\n",
        "\n",
        "    def get_data(self):\n",
        "        return self.data\n",
        "\n",
        "    def get_left(self):\n",
        "        return self.left\n",
        "\n",
        "    def get_right(self):\n",
        "        return self.right\n",
        "    \n",
        "    def set_left(self, left):\n",
        "        self.left = left\n",
        "\n",
        "    def set_right(self, right):\n",
        "        self.right = right\n",
        "\n",
        "class Tree:\n",
        "\n",
        "    def __init__(self):\n",
        "        self.root = None\n",
        "\n",
        "    def get_root(self):\n",
        "        return self.root\n",
        "\n",
        "    def set_root(self, root):\n",
        "        self.root = root\n",
        "\n",
        "    def print_tree(self):\n",
        "        self.print_node(self.root, 0)\n",
        "\n",
        "    def print_node(self, node, depth):\n",
        "        msg = \"\"\n",
        "        if node is not None:\n",
        "            for i in range(0, depth):\n",
        "                msg += \" \"\n",
        "            msg += node.get_data()\n",
        "            print(msg)\n",
        "\n",
        "            self.print_node(node.get_left(), depth+1)\n",
        "            self.print_node(node.get_right(), depth)\n",
        "\n",
        "\n",
        "tree = Tree()\n",
        "node_a = Node(\"A\")\n",
        "node_b = Node(\"B\")\n",
        "node_c = Node(\"C\")\n",
        "node_d = Node(\"D\")\n",
        "node_e = Node(\"E\")\n",
        "node_f = Node(\"F\")\n",
        "node_g = Node(\"G\")\n",
        "node_h = Node(\"H\")\n",
        "node_i = Node(\"I\")\n",
        "node_j = Node(\"J\")\n",
        "node_k = Node(\"K\")\n",
        "node_l = Node(\"L\")\n",
        "node_m = Node(\"M\")\n",
        "node_n = Node(\"N\")\n",
        "node_o = Node(\"O\")\n",
        "node_p = Node(\"P\")\n",
        "\n",
        "tree.set_root(node_a)\n",
        "\n",
        "node_a.set_left(node_b)\n",
        "\n",
        "node_b.set_left(node_e)\n",
        "node_b.set_right(node_c)\n",
        "\n",
        "node_c.set_left(node_h)\n",
        "node_c.set_right(node_d)\n",
        "\n",
        "node_d.set_left(node_j)\n",
        "\n",
        "node_e.set_left(node_k)\n",
        "node_e.set_right(node_f)\n",
        "\n",
        "node_f.set_right(node_g)\n",
        "\n",
        "node_g.set_left(node_m)\n",
        "\n",
        "node_h.set_left(node_n)\n",
        "node_h.set_right(node_i)\n",
        "\n",
        "node_j.set_left(node_o)\n",
        "\n",
        "node_k.set_right(node_l)\n",
        "\n",
        "node_o.set_right(node_p)\n",
        "\n",
        "tree.print_tree()\n"
      ],
      "execution_count": 0,
      "outputs": [
        {
          "output_type": "stream",
          "text": [
            "A\n",
            " B\n",
            "  E\n",
            "   K\n",
            "   L\n",
            "  F\n",
            "  G\n",
            "   M\n",
            " C\n",
            "  H\n",
            "   N\n",
            "  I\n",
            " D\n",
            "  J\n",
            "   O\n",
            "   P\n"
          ],
          "name": "stdout"
        }
      ]
    },
    {
      "cell_type": "code",
      "metadata": {
        "id": "9sYl3mKH8Df8",
        "colab_type": "code",
        "colab": {}
      },
      "source": [
        ""
      ],
      "execution_count": 0,
      "outputs": []
    }
  ]
}