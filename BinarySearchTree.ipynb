{
  "nbformat": 4,
  "nbformat_minor": 0,
  "metadata": {
    "colab": {
      "name": "BinarySearchTree.ipynb",
      "provenance": [],
      "collapsed_sections": [],
      "include_colab_link": true
    },
    "kernelspec": {
      "name": "python3",
      "display_name": "Python 3"
    }
  },
  "cells": [
    {
      "cell_type": "markdown",
      "metadata": {
        "id": "view-in-github",
        "colab_type": "text"
      },
      "source": [
        "<a href=\"https://colab.research.google.com/github/whgustj00/whgustj00-naver.com/blob/master/BinarySearchTree.ipynb\" target=\"_parent\"><img src=\"https://colab.research.google.com/assets/colab-badge.svg\" alt=\"Open In Colab\"/></a>"
      ]
    },
    {
      "cell_type": "code",
      "metadata": {
        "id": "YvJmRW0plFs4",
        "colab_type": "code",
        "outputId": "2aee6722-749c-4bd7-c85c-d8cf39bd1b81",
        "colab": {
          "base_uri": "https://localhost:8080/",
          "height": 52
        }
      },
      "source": [
        "class Node:\n",
        "  \n",
        "    def __init__(self, key):\n",
        "        self.key = key\n",
        "        self.left = None\n",
        "        self.right = None\n",
        "        \n",
        "    def set_left(self, left):\n",
        "        self.left = left\n",
        "        \n",
        "    def set_right(self, right):\n",
        "        self.right = right\n",
        "        \n",
        "    def get_left(self):\n",
        "        return self.left\n",
        "  \n",
        "    def get_right(self):\n",
        "        return self.right\n",
        "  \n",
        "    def get_key(self):\n",
        "        return self.key\n",
        "  \n",
        "class Binary_search_tree:\n",
        "  \n",
        "    def __init__(self):\n",
        "        self.root = None\n",
        "    \n",
        "    def set_root(self, root):\n",
        "        self.root = root\n",
        "  \n",
        "    def get_root(self):\n",
        "        return self.root\n",
        "\n",
        "    def search(self, key):\n",
        "        return self.check(self.root, key)\n",
        "    \n",
        "    def check(self, node, key):\n",
        "        if node is None:\n",
        "            return None\n",
        "        if node.get_key() == key:\n",
        "            return node\n",
        "        elif node.get_key() > key:\n",
        "            return self.check(node.get_left(), key)\n",
        "        else:\n",
        "            return self.check(node.get_right(), key)\n",
        "\n",
        "    def insert(self, node):\n",
        "        if self.root is None:\n",
        "            self.root = node\n",
        "        else:\n",
        "            self.insert_node(self.root, node)\n",
        "\n",
        "    def insert_node(self, parent, node):\n",
        "        if parent.get_key() == node.get_key():\n",
        "            pass\n",
        "        else:\n",
        "            if parent.get_key() > node.get_key():\n",
        "                left = parent.get_left()\n",
        "                if left is None:\n",
        "                    parent.set_left(node)\n",
        "                else:\n",
        "                    self.insert_node(left, node)\n",
        "            else:\n",
        "                right = parent.get_right()\n",
        "                if right is None:\n",
        "                    parent.set_right(node)\n",
        "                else:\n",
        "                    self.insert_node(right, node)\n",
        "\n",
        "\n",
        "bst = Binary_search_tree()\n",
        "    \n",
        "node_40 = Node(40)\n",
        "bst.insert(node_40)\n",
        "node_15 = Node(15)\n",
        "bst.insert(node_15)\n",
        "node_69 = Node(69)\n",
        "bst.insert(node_69)\n",
        "node_8 = Node(8)\n",
        "bst.insert(node_8)\n",
        "node_25 = Node(25)\n",
        "bst.insert(node_25)\n",
        "node_54 = Node(54)\n",
        "bst.insert(node_54)\n",
        "node_86 = Node(86)\n",
        "bst.insert(node_86)\n",
        "node_5 = Node(5)\n",
        "bst.insert(node_5)\n",
        "node_10 = Node(10)\n",
        "bst.insert(node_10)\n",
        "node_20 = Node(20)\n",
        "bst.insert(node_20)\n",
        "node_30 = Node(30)\n",
        "bst.insert(node_30)\n",
        "node_50 = Node(50)\n",
        "bst.insert(node_50)\n",
        "node_66 = Node(66)\n",
        "bst.insert(node_66)\n",
        "node_83 = Node(83)\n",
        "bst.insert(node_83)\n",
        "node_90 = Node(90)\n",
        "bst.insert(node_90)\n",
        "\n",
        "result = bst.search(66)\n",
        "if result is None:\n",
        "    print(\"fail\")\n",
        "else:\n",
        "    print(\"success\")\n",
        "\n",
        "result = bst.search(67)\n",
        "if result is None:\n",
        "    print(\"fail\")\n",
        "else:\n",
        "    print(\"success\")"
      ],
      "execution_count": 0,
      "outputs": [
        {
          "output_type": "stream",
          "text": [
            "success\n",
            "fail\n"
          ],
          "name": "stdout"
        }
      ]
    },
    {
      "cell_type": "code",
      "metadata": {
        "id": "LtHu8p-s6F-t",
        "colab_type": "code",
        "colab": {}
      },
      "source": [
        ""
      ],
      "execution_count": 0,
      "outputs": []
    }
  ]
}