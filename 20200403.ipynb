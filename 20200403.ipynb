{
  "nbformat": 4,
  "nbformat_minor": 0,
  "metadata": {
    "colab": {
      "name": "20200403.ipynb",
      "provenance": [],
      "authorship_tag": "ABX9TyNpuuxCAPl+Q88WpWcLxcrW",
      "include_colab_link": true
    },
    "kernelspec": {
      "name": "python3",
      "display_name": "Python 3"
    }
  },
  "cells": [
    {
      "cell_type": "markdown",
      "metadata": {
        "id": "view-in-github",
        "colab_type": "text"
      },
      "source": [
        "<a href=\"https://colab.research.google.com/github/whgustj00/whgustj00-naver.com/blob/master/20200403.ipynb\" target=\"_parent\"><img src=\"https://colab.research.google.com/assets/colab-badge.svg\" alt=\"Open In Colab\"/></a>"
      ]
    },
    {
      "cell_type": "code",
      "metadata": {
        "id": "CW6Y8Jeaoped",
        "colab_type": "code",
        "colab": {
          "base_uri": "https://localhost:8080/",
          "height": 194
        },
        "outputId": "8d4d1f3a-04b6-4891-8772-13d7ea667490"
      },
      "source": [
        "class Node:\n",
        "  \n",
        "  def __init__(self, data):\n",
        "    self.data = data\n",
        "    self.next = None\n",
        "    \n",
        "  def get_data(self):\n",
        "    return self.data\n",
        "  \n",
        "  def get_next(self):\n",
        "    return self.next\n",
        "  \n",
        "  def set_next(self, next):\n",
        "    self.next = next\n",
        "\n",
        "class Stack:\n",
        "\n",
        "    def __init__(self):\n",
        "        self.top = None\n",
        "        self.size = 0\n",
        "\n",
        "    def push(self, data):\n",
        "        new_node = Node(data)\n",
        "        self.size += 1\n",
        "        if self.top is None:\n",
        "            self.top = new_node\n",
        "        else:\n",
        "            new_node.set_next(self.top)\n",
        "            self.top = new_node\n",
        "    \n",
        "    def print_stack(self):\n",
        "        print(\">> current stack\")\n",
        "        node = self.top\n",
        "        while node is not None:\n",
        "            print(node.get_data())\n",
        "            node = node.get_next()\n",
        "        print(\">>>>>>>>>>>>>>>>\")\n",
        "\n",
        "    def pop(self):\n",
        "        node = self.top\n",
        "        if node is not None:\n",
        "            self.top = node.get_next()\n",
        "            self.size -= 1\n",
        "        return node\n",
        "\n",
        "stack = Stack()\n",
        "stack.push(\"Apple\")\n",
        "stack.push(\"Kiwi\")\n",
        "stack.push(\"Banana\")\n",
        "stack.print_stack()\n",
        "\n",
        "while True:\n",
        "    node = stack.pop()\n",
        "    if node is None:\n",
        "        break\n",
        "    else:\n",
        "        print(\"Pop: \" + node.get_data())\n",
        "stack.print_stack()"
      ],
      "execution_count": 12,
      "outputs": [
        {
          "output_type": "stream",
          "text": [
            ">> current stack\n",
            "Banana\n",
            "Kiwi\n",
            "Apple\n",
            ">>>>>>>>>>>>>>>>\n",
            "Pop: Banana\n",
            "Pop: Kiwi\n",
            "Pop: Apple\n",
            ">> current stack\n",
            ">>>>>>>>>>>>>>>>\n"
          ],
          "name": "stdout"
        }
      ]
    },
    {
      "cell_type": "code",
      "metadata": {
        "id": "Xv6B13yA61za",
        "colab_type": "code",
        "colab": {}
      },
      "source": [
        ""
      ],
      "execution_count": 0,
      "outputs": []
    }
  ]
}