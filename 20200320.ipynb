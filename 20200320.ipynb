{
  "nbformat": 4,
  "nbformat_minor": 0,
  "metadata": {
    "colab": {
      "name": "20200320.ipynb",
      "provenance": [],
      "authorship_tag": "ABX9TyONHLD+lf82U9wTTTDFiJC4",
      "include_colab_link": true
    },
    "kernelspec": {
      "name": "python3",
      "display_name": "Python 3"
    }
  },
  "cells": [
    {
      "cell_type": "markdown",
      "metadata": {
        "id": "view-in-github",
        "colab_type": "text"
      },
      "source": [
        "<a href=\"https://colab.research.google.com/github/whgustj00/whgustj00-naver.com/blob/master/20200320.ipynb\" target=\"_parent\"><img src=\"https://colab.research.google.com/assets/colab-badge.svg\" alt=\"Open In Colab\"/></a>"
      ]
    },
    {
      "cell_type": "code",
      "metadata": {
        "id": "ywkdLo_gpZ7q",
        "colab_type": "code",
        "outputId": "5976dfe9-890d-442c-d4f2-9d415a85cf71",
        "colab": {
          "base_uri": "https://localhost:8080/",
          "height": 496
        }
      },
      "source": [
        "class Node:\n",
        "\n",
        "    def __init__(self, fruit):\n",
        "        self.fruit = fruit\n",
        "        self.next = None\n",
        "    \n",
        "    def get_fruit(self):\n",
        "        return self.fruit\n",
        "\n",
        "    def get_next(self):\n",
        "        return self.next\n",
        "\n",
        "    def set_next(self, next):\n",
        "        self.next = next\n",
        "\n",
        "class Simply_linked_list:\n",
        "    \n",
        "    def __init__(self):\n",
        "        self.header = None\n",
        "        self.tail = None\n",
        "        self.size = 0\n",
        "\n",
        "    def append(self, fruit):\n",
        "        new_node = Node(fruit)\n",
        "        self.size += 1\n",
        "        if self.header is None:\n",
        "            self.header = new_node\n",
        "        else:\n",
        "            self.tail.set_next(new_node)\n",
        "        self.tail = new_node\n",
        "\n",
        "    def print_list(self):\n",
        "        print(\">> current list\")\n",
        "        node = self.header\n",
        "        while node is not None:\n",
        "            print(node.get_fruit())\n",
        "            node = node.get_next()\n",
        "        print(\">>>>>>>>>>>>>>>>\")\n",
        "    \n",
        "    def get_at(self, index):\n",
        "        if index >= self.size:\n",
        "            return None\n",
        "        else:\n",
        "            node = self.header\n",
        "            for i in range (0, index):\n",
        "                node = node.get_next()\n",
        "            return node\n",
        "\n",
        "    def search(self, fruit):\n",
        "        node = self.header\n",
        "        while node is not None:\n",
        "            if node.get_fruit() == fruit:\n",
        "                return node\n",
        "            node = node.get_next()\n",
        "        return node\n",
        "    \n",
        "    def delete_at(self, index):\n",
        "        if index >= self.size:\n",
        "            pass\n",
        "        else:\n",
        "            prev = None\n",
        "            current = self.header\n",
        "            for i in range(0, index):\n",
        "                prev = current;\n",
        "                current = current.get_next()\n",
        "            if current == self.header:\n",
        "                self.header = current.get_next()\n",
        "            else:\n",
        "                prev.set_next(current.get_next())\n",
        "            if current == self.tail:\n",
        "                self.tail = prev\n",
        "            self.size -= 1\n",
        "\n",
        "sll = Simply_linked_list()\n",
        "sll.append(\"Apple\")\n",
        "sll.append(\"Kiwi\")\n",
        "sll.append(\"Banana\")\n",
        "sll.print_list()\n",
        "\n",
        "node = sll.get_at(1)\n",
        "if node is not None:\n",
        "    print(node.get_fruit())\n",
        "else:\n",
        "    print(\"index error\")\n",
        "node = sll.get_at(2)\n",
        "if node is not None:\n",
        "    print(node.get_fruit())\n",
        "else:\n",
        "    print(\"index error\")\n",
        "\n",
        "node = sll.search(\"Banana\")\n",
        "if node is not None:\n",
        "    print(\"We have it!\")\n",
        "else:\n",
        "    print(\"We don't have it!\")\n",
        "\n",
        "sll.delete_at(1)\n",
        "sll.print_list()\n",
        "sll.append(\"Orange\")\n",
        "sll.print_list()\n",
        "sll.delete_at(0)\n",
        "sll.print_list()\n",
        "sll.delete_at(1)\n",
        "sll.print_list()"
      ],
      "execution_count": 0,
      "outputs": [
        {
          "output_type": "stream",
          "text": [
            ">> current list\n",
            "Apple\n",
            "Kiwi\n",
            "Banana\n",
            ">>>>>>>>>>>>>>>>\n",
            "Kiwi\n",
            "Banana\n",
            "We have it!\n",
            "<__main__.Node object at 0x7f0b5f6a9cf8>\n",
            ">> current list\n",
            "Apple\n",
            "Banana\n",
            ">>>>>>>>>>>>>>>>\n",
            ">> current list\n",
            "Apple\n",
            "Banana\n",
            "Orange\n",
            ">>>>>>>>>>>>>>>>\n",
            "None\n",
            ">> current list\n",
            "Banana\n",
            "Orange\n",
            ">>>>>>>>>>>>>>>>\n",
            "<__main__.Node object at 0x7f0b5f6a9be0>\n",
            ">> current list\n",
            "Banana\n",
            ">>>>>>>>>>>>>>>>\n"
          ],
          "name": "stdout"
        }
      ]
    },
    {
      "cell_type": "code",
      "metadata": {
        "id": "BccIlCKr42Gy",
        "colab_type": "code",
        "colab": {}
      },
      "source": [
        ""
      ],
      "execution_count": 0,
      "outputs": []
    },
    {
      "cell_type": "markdown",
      "metadata": {
        "id": "xsukAZWwx786",
        "colab_type": "text"
      },
      "source": [
        ""
      ]
    }
  ]
}