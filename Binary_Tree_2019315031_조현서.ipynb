{
  "nbformat": 4,
  "nbformat_minor": 0,
  "metadata": {
    "colab": {
      "name": "Binary_Tree_2019315031_조현서.ipynb",
      "provenance": [],
      "include_colab_link": true
    },
    "kernelspec": {
      "name": "python3",
      "display_name": "Python 3"
    }
  },
  "cells": [
    {
      "cell_type": "markdown",
      "metadata": {
        "id": "view-in-github",
        "colab_type": "text"
      },
      "source": [
        "<a href=\"https://colab.research.google.com/github/whgustj00/whgustj00-naver.com/blob/master/Binary_Tree_2019315031_%EC%A1%B0%ED%98%84%EC%84%9C.ipynb\" target=\"_parent\"><img src=\"https://colab.research.google.com/assets/colab-badge.svg\" alt=\"Open In Colab\"/></a>"
      ]
    },
    {
      "cell_type": "code",
      "metadata": {
        "id": "XIKFaQHCusLt",
        "colab_type": "code",
        "outputId": "7499ffd3-9668-47a0-82f0-b9072447e3b9",
        "colab": {
          "base_uri": "https://localhost:8080/",
          "height": 70
        }
      },
      "source": [
        "class node:\n",
        "    def __init__(self, data):\n",
        "        self.data = data\n",
        "        self.left_child = None\n",
        "        self.right_child = None\n",
        "\n",
        "    def get_left_child(self):\n",
        "        return self.left_child\n",
        "\n",
        "    def get_right_child(self):\n",
        "        return self.right_child\n",
        "\n",
        "    def get_data(self):\n",
        "        return self.data\n",
        "\n",
        "    def set_left_child(self, left_child):\n",
        "        self.left_child = left_child\n",
        "\n",
        "    def set_right_child(self, right_child):\n",
        "        self.right_child = right_child\n",
        "\n",
        "class Binary_tree:\n",
        "    \n",
        "    def __init__(self):\n",
        "        self.root = None\n",
        "\n",
        "    def get_root(self):\n",
        "        return self.root\n",
        "\n",
        "    def set_root(self, root):\n",
        "        self.root = root\n",
        "\n",
        "    def pre_order(self, node):\n",
        "        if node is not None:\n",
        "            print(node.get_data(), end = \" \")\n",
        "            self.pre_order(node.get_left_child())\n",
        "            self.pre_order(node.get_right_child())\n",
        "\n",
        "    def in_order(self, node):\n",
        "        if node is not None:\n",
        "            self.in_order(node.get_left_child())\n",
        "            print(node.get_data(), end = \" \")\n",
        "            self.in_order(node.get_right_child())\n",
        "\n",
        "    def post_order(self, node):\n",
        "        if node is not None:\n",
        "            self.post_order(node.get_left_child())\n",
        "            self.post_order(node.get_right_child())\n",
        "            print(node.get_data(), end = \" \")\n",
        "\n",
        "\n",
        "\n",
        "b_tree = Binary_tree()\n",
        "\n",
        "node_a = node(\"A\")\n",
        "node_b = node(\"B\")\n",
        "node_c = node(\"C\")\n",
        "node_d = node(\"D\")\n",
        "node_e = node(\"E\")\n",
        "node_f = node(\"F\")\n",
        "node_g = node(\"G\")\n",
        "node_h = node(\"H\")\n",
        "\n",
        "b_tree.set_root(node_a)\n",
        "\n",
        "node_a.set_left_child(node_b)\n",
        "node_a.set_right_child(node_c)\n",
        "\n",
        "node_b.set_left_child(node_d)\n",
        "node_b.set_right_child(node_e)\n",
        "\n",
        "node_c.set_right_child(node_f)\n",
        "\n",
        "node_d.set_right_child(node_g)\n",
        "\n",
        "node_e.set_left_child(node_h)\n",
        "\n",
        "b_tree.pre_order(b_tree.get_root())\n",
        "print(\"\")\n",
        "\n",
        "b_tree.in_order(b_tree.get_root())\n",
        "print(\"\")\n",
        "\n",
        "b_tree.post_order(b_tree.get_root())\n",
        "print(\"\")\n"
      ],
      "execution_count": 0,
      "outputs": [
        {
          "output_type": "stream",
          "text": [
            "A B D G E H C F \n",
            "D G B H E A C F \n",
            "G D H E B F C A \n"
          ],
          "name": "stdout"
        }
      ]
    }
  ]
}